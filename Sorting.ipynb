{
 "cells": [
  {
   "cell_type": "markdown",
   "metadata": {},
   "source": [
    "\n",
    "# Introduction to Algorithms\n",
    "\n",
    "\n",
    "## Sorting\n",
    "\n",
    "The code for this section includes:\n",
    "    bubble_sort(),\n",
    "    insert_sort(),\n",
    "    merge_sort(),\n",
    "    quicksort(),\n",
    "    rand_quicksort()\n",
    "    \n",
    "And auxilliary functions that these sorts use.\n",
    "\n",
    "Let's start with bubble_sort, giving it a run, to see how it proceeds:\n"
   ]
  },
  {
   "cell_type": "code",
   "execution_count": 2,
   "metadata": {
    "collapsed": false
   },
   "outputs": [
    {
     "name": "stdout",
     "output_type": "stream",
     "text": [
      "Swapping 34 and 999\n",
      "Swapping 1 and 234\n",
      "Swapping 1 and 90\n",
      "Swapping 1 and 12\n",
      "Swapping 1 and 567\n",
      "Swapping 34 and 234\n",
      "Swapping 34 and 90\n",
      "Swapping 12 and 567\n",
      "Swapping 34 and 567\n",
      "Swapping 90 and 567\n",
      "Swapping 234 and 567\n",
      "[1, 12, 34, 90, 234, 567, 999]\n"
     ]
    }
   ],
   "source": [
    "import sorting as srt\n",
    "\n",
    "l = [567, 12, 90, 234, 1, 999, 34]\n",
    "\n",
    "sorted = srt.bubble_sort(l)\n",
    "\n",
    "print(sorted)"
   ]
  },
  {
   "cell_type": "markdown",
   "metadata": {},
   "source": [
    "This is the code for bubble_sort:\n",
    "\n",
    "def bubble_sort(l):\n",
    "    \"\"\"\n",
    "    Args:\n",
    "        l: the list to sort\n",
    "\n",
    "    Returns: a sorted list.\n",
    "\n",
    "    Performance: Θ(n**2) \n",
    "    \"\"\"\n",
    "    \n",
    "    for i in range(0, len(l) - 1):\n",
    "        for j in range(len(l) - 1, i, -1):\n",
    "            if l[j] < l[j - 1]:\n",
    "                print(\"Swapping \" + str(l[j]) + \" and \"\n",
    "                        + str(l[j - 1]))\n",
    "                swap(l, j, j - 1)\n",
    "    return l\n"
   ]
  }
 ],
 "metadata": {
  "kernelspec": {
   "display_name": "Python 3",
   "language": "python",
   "name": "python3"
  },
  "language_info": {
   "codemirror_mode": {
    "name": "ipython",
    "version": 3
   },
   "file_extension": ".py",
   "mimetype": "text/x-python",
   "name": "python",
   "nbconvert_exporter": "python",
   "pygments_lexer": "ipython3",
   "version": "3.4.3"
  }
 },
 "nbformat": 4,
 "nbformat_minor": 1
}
